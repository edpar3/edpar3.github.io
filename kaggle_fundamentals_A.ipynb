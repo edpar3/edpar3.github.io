{
  "nbformat": 4,
  "nbformat_minor": 0,
  "metadata": {
    "colab": {
      "name": "kaggle_fundamentals_A.ipynb",
      "provenance": [],
      "collapsed_sections": [],
      "authorship_tag": "ABX9TyNZTHboVhu2u0x+7J5oniMh",
      "include_colab_link": true
    },
    "kernelspec": {
      "name": "python3",
      "display_name": "Python 3"
    },
    "language_info": {
      "name": "python"
    }
  },
  "cells": [
    {
      "cell_type": "markdown",
      "metadata": {
        "id": "view-in-github",
        "colab_type": "text"
      },
      "source": [
        "<a href=\"https://colab.research.google.com/github/edpar3/edpar3.github.io/blob/main/kaggle_fundamentals_A.ipynb\" target=\"_parent\"><img src=\"https://colab.research.google.com/assets/colab-badge.svg\" alt=\"Open In Colab\"/></a>"
      ]
    },
    {
      "cell_type": "code",
      "metadata": {
        "colab": {
          "base_uri": "https://localhost:8080/"
        },
        "id": "RtId4FW30wX8",
        "outputId": "ca467772-e920-4ed3-8736-509aa6f3606c"
      },
      "source": [
        "from google.colab import drive\n",
        "drive.mount('/content/gdrive')"
      ],
      "execution_count": null,
      "outputs": [
        {
          "output_type": "stream",
          "text": [
            "Drive already mounted at /content/gdrive; to attempt to forcibly remount, call drive.mount(\"/content/gdrive\", force_remount=True).\n"
          ],
          "name": "stdout"
        }
      ]
    },
    {
      "cell_type": "code",
      "metadata": {
        "id": "iJ-hvnof2K_T"
      },
      "source": [
        "import pandas as pd\n",
        "\n",
        "path_train = '/content/gdrive/MyDrive/datasets/titanic_train.csv'\n",
        "path_test = '/content/gdrive/MyDrive/datasets/titanic_test.csv'\n",
        "\n",
        "train = pd.read_csv(path_train)\n",
        "test = pd.read_csv(path_test)"
      ],
      "execution_count": null,
      "outputs": []
    },
    {
      "cell_type": "code",
      "metadata": {
        "colab": {
          "base_uri": "https://localhost:8080/",
          "height": 203
        },
        "id": "xKVf1T4n3H9l",
        "outputId": "b4f2f46f-ffcd-4254-bee8-3639e7ab80fb"
      },
      "source": [
        "train.head()"
      ],
      "execution_count": null,
      "outputs": [
        {
          "output_type": "execute_result",
          "data": {
            "text/html": [
              "<div>\n",
              "<style scoped>\n",
              "    .dataframe tbody tr th:only-of-type {\n",
              "        vertical-align: middle;\n",
              "    }\n",
              "\n",
              "    .dataframe tbody tr th {\n",
              "        vertical-align: top;\n",
              "    }\n",
              "\n",
              "    .dataframe thead th {\n",
              "        text-align: right;\n",
              "    }\n",
              "</style>\n",
              "<table border=\"1\" class=\"dataframe\">\n",
              "  <thead>\n",
              "    <tr style=\"text-align: right;\">\n",
              "      <th></th>\n",
              "      <th>PassengerId</th>\n",
              "      <th>Survived</th>\n",
              "      <th>Pclass</th>\n",
              "      <th>Name</th>\n",
              "      <th>Sex</th>\n",
              "      <th>Age</th>\n",
              "      <th>SibSp</th>\n",
              "      <th>Parch</th>\n",
              "      <th>Ticket</th>\n",
              "      <th>Fare</th>\n",
              "      <th>Cabin</th>\n",
              "      <th>Embarked</th>\n",
              "    </tr>\n",
              "  </thead>\n",
              "  <tbody>\n",
              "    <tr>\n",
              "      <th>0</th>\n",
              "      <td>1</td>\n",
              "      <td>0</td>\n",
              "      <td>3</td>\n",
              "      <td>Braund, Mr. Owen Harris</td>\n",
              "      <td>male</td>\n",
              "      <td>22.0</td>\n",
              "      <td>1</td>\n",
              "      <td>0</td>\n",
              "      <td>A/5 21171</td>\n",
              "      <td>7.2500</td>\n",
              "      <td>NaN</td>\n",
              "      <td>S</td>\n",
              "    </tr>\n",
              "    <tr>\n",
              "      <th>1</th>\n",
              "      <td>2</td>\n",
              "      <td>1</td>\n",
              "      <td>1</td>\n",
              "      <td>Cumings, Mrs. John Bradley (Florence Briggs Th...</td>\n",
              "      <td>female</td>\n",
              "      <td>38.0</td>\n",
              "      <td>1</td>\n",
              "      <td>0</td>\n",
              "      <td>PC 17599</td>\n",
              "      <td>71.2833</td>\n",
              "      <td>C85</td>\n",
              "      <td>C</td>\n",
              "    </tr>\n",
              "    <tr>\n",
              "      <th>2</th>\n",
              "      <td>3</td>\n",
              "      <td>1</td>\n",
              "      <td>3</td>\n",
              "      <td>Heikkinen, Miss. Laina</td>\n",
              "      <td>female</td>\n",
              "      <td>26.0</td>\n",
              "      <td>0</td>\n",
              "      <td>0</td>\n",
              "      <td>STON/O2. 3101282</td>\n",
              "      <td>7.9250</td>\n",
              "      <td>NaN</td>\n",
              "      <td>S</td>\n",
              "    </tr>\n",
              "    <tr>\n",
              "      <th>3</th>\n",
              "      <td>4</td>\n",
              "      <td>1</td>\n",
              "      <td>1</td>\n",
              "      <td>Futrelle, Mrs. Jacques Heath (Lily May Peel)</td>\n",
              "      <td>female</td>\n",
              "      <td>35.0</td>\n",
              "      <td>1</td>\n",
              "      <td>0</td>\n",
              "      <td>113803</td>\n",
              "      <td>53.1000</td>\n",
              "      <td>C123</td>\n",
              "      <td>S</td>\n",
              "    </tr>\n",
              "    <tr>\n",
              "      <th>4</th>\n",
              "      <td>5</td>\n",
              "      <td>0</td>\n",
              "      <td>3</td>\n",
              "      <td>Allen, Mr. William Henry</td>\n",
              "      <td>male</td>\n",
              "      <td>35.0</td>\n",
              "      <td>0</td>\n",
              "      <td>0</td>\n",
              "      <td>373450</td>\n",
              "      <td>8.0500</td>\n",
              "      <td>NaN</td>\n",
              "      <td>S</td>\n",
              "    </tr>\n",
              "  </tbody>\n",
              "</table>\n",
              "</div>"
            ],
            "text/plain": [
              "   PassengerId  Survived  Pclass  ...     Fare Cabin  Embarked\n",
              "0            1         0       3  ...   7.2500   NaN         S\n",
              "1            2         1       1  ...  71.2833   C85         C\n",
              "2            3         1       3  ...   7.9250   NaN         S\n",
              "3            4         1       1  ...  53.1000  C123         S\n",
              "4            5         0       3  ...   8.0500   NaN         S\n",
              "\n",
              "[5 rows x 12 columns]"
            ]
          },
          "metadata": {
            "tags": []
          },
          "execution_count": 3
        }
      ]
    },
    {
      "cell_type": "code",
      "metadata": {
        "colab": {
          "base_uri": "https://localhost:8080/",
          "height": 203
        },
        "id": "Jy4Vorf33Rum",
        "outputId": "c302b3a1-6453-436c-eaf0-4bc1b8662825"
      },
      "source": [
        "test.head()"
      ],
      "execution_count": null,
      "outputs": [
        {
          "output_type": "execute_result",
          "data": {
            "text/html": [
              "<div>\n",
              "<style scoped>\n",
              "    .dataframe tbody tr th:only-of-type {\n",
              "        vertical-align: middle;\n",
              "    }\n",
              "\n",
              "    .dataframe tbody tr th {\n",
              "        vertical-align: top;\n",
              "    }\n",
              "\n",
              "    .dataframe thead th {\n",
              "        text-align: right;\n",
              "    }\n",
              "</style>\n",
              "<table border=\"1\" class=\"dataframe\">\n",
              "  <thead>\n",
              "    <tr style=\"text-align: right;\">\n",
              "      <th></th>\n",
              "      <th>PassengerId</th>\n",
              "      <th>Pclass</th>\n",
              "      <th>Name</th>\n",
              "      <th>Sex</th>\n",
              "      <th>Age</th>\n",
              "      <th>SibSp</th>\n",
              "      <th>Parch</th>\n",
              "      <th>Ticket</th>\n",
              "      <th>Fare</th>\n",
              "      <th>Cabin</th>\n",
              "      <th>Embarked</th>\n",
              "    </tr>\n",
              "  </thead>\n",
              "  <tbody>\n",
              "    <tr>\n",
              "      <th>0</th>\n",
              "      <td>892</td>\n",
              "      <td>3</td>\n",
              "      <td>Kelly, Mr. James</td>\n",
              "      <td>male</td>\n",
              "      <td>34.5</td>\n",
              "      <td>0</td>\n",
              "      <td>0</td>\n",
              "      <td>330911</td>\n",
              "      <td>7.8292</td>\n",
              "      <td>NaN</td>\n",
              "      <td>Q</td>\n",
              "    </tr>\n",
              "    <tr>\n",
              "      <th>1</th>\n",
              "      <td>893</td>\n",
              "      <td>3</td>\n",
              "      <td>Wilkes, Mrs. James (Ellen Needs)</td>\n",
              "      <td>female</td>\n",
              "      <td>47.0</td>\n",
              "      <td>1</td>\n",
              "      <td>0</td>\n",
              "      <td>363272</td>\n",
              "      <td>7.0000</td>\n",
              "      <td>NaN</td>\n",
              "      <td>S</td>\n",
              "    </tr>\n",
              "    <tr>\n",
              "      <th>2</th>\n",
              "      <td>894</td>\n",
              "      <td>2</td>\n",
              "      <td>Myles, Mr. Thomas Francis</td>\n",
              "      <td>male</td>\n",
              "      <td>62.0</td>\n",
              "      <td>0</td>\n",
              "      <td>0</td>\n",
              "      <td>240276</td>\n",
              "      <td>9.6875</td>\n",
              "      <td>NaN</td>\n",
              "      <td>Q</td>\n",
              "    </tr>\n",
              "    <tr>\n",
              "      <th>3</th>\n",
              "      <td>895</td>\n",
              "      <td>3</td>\n",
              "      <td>Wirz, Mr. Albert</td>\n",
              "      <td>male</td>\n",
              "      <td>27.0</td>\n",
              "      <td>0</td>\n",
              "      <td>0</td>\n",
              "      <td>315154</td>\n",
              "      <td>8.6625</td>\n",
              "      <td>NaN</td>\n",
              "      <td>S</td>\n",
              "    </tr>\n",
              "    <tr>\n",
              "      <th>4</th>\n",
              "      <td>896</td>\n",
              "      <td>3</td>\n",
              "      <td>Hirvonen, Mrs. Alexander (Helga E Lindqvist)</td>\n",
              "      <td>female</td>\n",
              "      <td>22.0</td>\n",
              "      <td>1</td>\n",
              "      <td>1</td>\n",
              "      <td>3101298</td>\n",
              "      <td>12.2875</td>\n",
              "      <td>NaN</td>\n",
              "      <td>S</td>\n",
              "    </tr>\n",
              "  </tbody>\n",
              "</table>\n",
              "</div>"
            ],
            "text/plain": [
              "   PassengerId  Pclass  ... Cabin Embarked\n",
              "0          892       3  ...   NaN        Q\n",
              "1          893       3  ...   NaN        S\n",
              "2          894       2  ...   NaN        Q\n",
              "3          895       3  ...   NaN        S\n",
              "4          896       3  ...   NaN        S\n",
              "\n",
              "[5 rows x 11 columns]"
            ]
          },
          "metadata": {
            "tags": []
          },
          "execution_count": 4
        }
      ]
    },
    {
      "cell_type": "code",
      "metadata": {
        "colab": {
          "base_uri": "https://localhost:8080/",
          "height": 563
        },
        "id": "2EpgXoFM4bly",
        "outputId": "97f1df16-3c6e-43ee-e57a-8dab53c3614a"
      },
      "source": [
        "import matplotlib.pyplot as plt\n",
        "\n",
        "sex_pivot = train.pivot_table(index='Sex', values='Survived')\n",
        "sex_pivot.plot.bar()\n",
        "plt.show()\n",
        "\n",
        "class_pivot = train.pivot_table(index='Pclass', values='Survived')\n",
        "class_pivot.plot.bar()\n",
        "plt.show()"
      ],
      "execution_count": null,
      "outputs": [
        {
          "output_type": "display_data",
          "data": {
            "image/png": "[encoded data removed]",
            "text/plain": [
              "<Figure size 432x288 with 1 Axes>"
            ]
          },
          "metadata": {
            "tags": [],
            "needs_background": "light"
          }
        },
        {
          "output_type": "display_data",
          "data": {
            "image/png": "[encoded data removed]",
            "text/plain": [
              "<Figure size 432x288 with 1 Axes>"
            ]
          },
          "metadata": {
            "tags": [],
            "needs_background": "light"
          }
        }
      ]
    },
    {
      "cell_type": "code",
      "metadata": {
        "colab": {
          "base_uri": "https://localhost:8080/",
          "height": 329
        },
        "id": "A4WT2boE4vfx",
        "outputId": "dd367c7d-c9cb-4160-dbeb-4b71352ccf3b"
      },
      "source": [
        "def process_age(df, cut_points, label_names):\n",
        "    df['Age'] = df['Age'].fillna(-0.5)\n",
        "    df['Age_categories'] = pd.cut(df['Age'], cut_points, labels=label_names)\n",
        "    return df\n",
        "\n",
        "cut_points = [-1, 0, 5, 12, 18, 35, 60, 100]\n",
        "label_names = [\n",
        "    'Missing',\n",
        "    'Infant',\n",
        "    'Child',\n",
        "    'Teenager',\n",
        "    'Young Adult',\n",
        "    'Adult',\n",
        "    'Senior'\n",
        "]\n",
        "\n",
        "train = process_age(train, cut_points, label_names)\n",
        "test = process_age(test, cut_points, label_names)\n",
        "\n",
        "age_pivot = train.pivot_table(index='Age_categories', values='Survived')\n",
        "age_pivot.plot.bar()\n",
        "plt.show()"
      ],
      "execution_count": null,
      "outputs": [
        {
          "output_type": "display_data",
          "data": {
            "image/png": "[encoded data removed]",
            "text/plain": [
              "<Figure size 432x288 with 1 Axes>"
            ]
          },
          "metadata": {
            "tags": [],
            "needs_background": "light"
          }
        }
      ]
    },
    {
      "cell_type": "code",
      "metadata": {
        "id": "2lfXhAZT5FRx"
      },
      "source": [
        "def create_dummies(df, column_name):\n",
        "    dummies = pd.get_dummies(df[column_name], prefix=column_name)\n",
        "    df = pd.concat([df,dummies], axis=1)\n",
        "    return df\n",
        "\n",
        "train = create_dummies(train, 'Pclass')\n",
        "test = create_dummies(test, 'Pclass')\n",
        "\n",
        "train = create_dummies(train, 'Sex')\n",
        "test = create_dummies(test, 'Sex')\n",
        "\n",
        "train = create_dummies(train, 'Age_categories')\n",
        "test = create_dummies(test, 'Age_categories')"
      ],
      "execution_count": null,
      "outputs": []
    },
    {
      "cell_type": "code",
      "metadata": {
        "colab": {
          "base_uri": "https://localhost:8080/",
          "height": 330
        },
        "id": "Fg-kz1TL5PDh",
        "outputId": "5e71c13b-efff-4475-bcb7-d042d71e6730"
      },
      "source": [
        "train.head(3)"
      ],
      "execution_count": null,
      "outputs": [
        {
          "output_type": "execute_result",
          "data": {
            "text/html": [
              "<div>\n",
              "<style scoped>\n",
              "    .dataframe tbody tr th:only-of-type {\n",
              "        vertical-align: middle;\n",
              "    }\n",
              "\n",
              "    .dataframe tbody tr th {\n",
              "        vertical-align: top;\n",
              "    }\n",
              "\n",
              "    .dataframe thead th {\n",
              "        text-align: right;\n",
              "    }\n",
              "</style>\n",
              "<table border=\"1\" class=\"dataframe\">\n",
              "  <thead>\n",
              "    <tr style=\"text-align: right;\">\n",
              "      <th></th>\n",
              "      <th>PassengerId</th>\n",
              "      <th>Survived</th>\n",
              "      <th>Pclass</th>\n",
              "      <th>Name</th>\n",
              "      <th>Sex</th>\n",
              "      <th>Age</th>\n",
              "      <th>SibSp</th>\n",
              "      <th>Parch</th>\n",
              "      <th>Ticket</th>\n",
              "      <th>Fare</th>\n",
              "      <th>Cabin</th>\n",
              "      <th>Embarked</th>\n",
              "      <th>Age_categories</th>\n",
              "      <th>Pclass_1</th>\n",
              "      <th>Pclass_2</th>\n",
              "      <th>Pclass_3</th>\n",
              "      <th>Sex_female</th>\n",
              "      <th>Sex_male</th>\n",
              "      <th>Age_categories_Missing</th>\n",
              "      <th>Age_categories_Infant</th>\n",
              "      <th>Age_categories_Child</th>\n",
              "      <th>Age_categories_Teenager</th>\n",
              "      <th>Age_categories_Young Adult</th>\n",
              "      <th>Age_categories_Adult</th>\n",
              "      <th>Age_categories_Senior</th>\n",
              "    </tr>\n",
              "  </thead>\n",
              "  <tbody>\n",
              "    <tr>\n",
              "      <th>0</th>\n",
              "      <td>1</td>\n",
              "      <td>0</td>\n",
              "      <td>3</td>\n",
              "      <td>Braund, Mr. Owen Harris</td>\n",
              "      <td>male</td>\n",
              "      <td>22.0</td>\n",
              "      <td>1</td>\n",
              "      <td>0</td>\n",
              "      <td>A/5 21171</td>\n",
              "      <td>7.2500</td>\n",
              "      <td>NaN</td>\n",
              "      <td>S</td>\n",
              "      <td>Young Adult</td>\n",
              "      <td>0</td>\n",
              "      <td>0</td>\n",
              "      <td>1</td>\n",
              "      <td>0</td>\n",
              "      <td>1</td>\n",
              "      <td>0</td>\n",
              "      <td>0</td>\n",
              "      <td>0</td>\n",
              "      <td>0</td>\n",
              "      <td>1</td>\n",
              "      <td>0</td>\n",
              "      <td>0</td>\n",
              "    </tr>\n",
              "    <tr>\n",
              "      <th>1</th>\n",
              "      <td>2</td>\n",
              "      <td>1</td>\n",
              "      <td>1</td>\n",
              "      <td>Cumings, Mrs. John Bradley (Florence Briggs Th...</td>\n",
              "      <td>female</td>\n",
              "      <td>38.0</td>\n",
              "      <td>1</td>\n",
              "      <td>0</td>\n",
              "      <td>PC 17599</td>\n",
              "      <td>71.2833</td>\n",
              "      <td>C85</td>\n",
              "      <td>C</td>\n",
              "      <td>Adult</td>\n",
              "      <td>1</td>\n",
              "      <td>0</td>\n",
              "      <td>0</td>\n",
              "      <td>1</td>\n",
              "      <td>0</td>\n",
              "      <td>0</td>\n",
              "      <td>0</td>\n",
              "      <td>0</td>\n",
              "      <td>0</td>\n",
              "      <td>0</td>\n",
              "      <td>1</td>\n",
              "      <td>0</td>\n",
              "    </tr>\n",
              "    <tr>\n",
              "      <th>2</th>\n",
              "      <td>3</td>\n",
              "      <td>1</td>\n",
              "      <td>3</td>\n",
              "      <td>Heikkinen, Miss. Laina</td>\n",
              "      <td>female</td>\n",
              "      <td>26.0</td>\n",
              "      <td>0</td>\n",
              "      <td>0</td>\n",
              "      <td>STON/O2. 3101282</td>\n",
              "      <td>7.9250</td>\n",
              "      <td>NaN</td>\n",
              "      <td>S</td>\n",
              "      <td>Young Adult</td>\n",
              "      <td>0</td>\n",
              "      <td>0</td>\n",
              "      <td>1</td>\n",
              "      <td>1</td>\n",
              "      <td>0</td>\n",
              "      <td>0</td>\n",
              "      <td>0</td>\n",
              "      <td>0</td>\n",
              "      <td>0</td>\n",
              "      <td>1</td>\n",
              "      <td>0</td>\n",
              "      <td>0</td>\n",
              "    </tr>\n",
              "  </tbody>\n",
              "</table>\n",
              "</div>"
            ],
            "text/plain": [
              "   PassengerId  Survived  ...  Age_categories_Adult Age_categories_Senior\n",
              "0            1         0  ...                     0                     0\n",
              "1            2         1  ...                     1                     0\n",
              "2            3         1  ...                     0                     0\n",
              "\n",
              "[3 rows x 25 columns]"
            ]
          },
          "metadata": {
            "tags": []
          },
          "execution_count": 8
        }
      ]
    },
    {
      "cell_type": "code",
      "metadata": {
        "colab": {
          "base_uri": "https://localhost:8080/",
          "height": 330
        },
        "id": "nYR3qnBj5TQx",
        "outputId": "c9e4d26f-d91e-4106-dcb3-d7a9ca66903b"
      },
      "source": [
        "test.head(3)"
      ],
      "execution_count": null,
      "outputs": [
        {
          "output_type": "execute_result",
          "data": {
            "text/html": [
              "<div>\n",
              "<style scoped>\n",
              "    .dataframe tbody tr th:only-of-type {\n",
              "        vertical-align: middle;\n",
              "    }\n",
              "\n",
              "    .dataframe tbody tr th {\n",
              "        vertical-align: top;\n",
              "    }\n",
              "\n",
              "    .dataframe thead th {\n",
              "        text-align: right;\n",
              "    }\n",
              "</style>\n",
              "<table border=\"1\" class=\"dataframe\">\n",
              "  <thead>\n",
              "    <tr style=\"text-align: right;\">\n",
              "      <th></th>\n",
              "      <th>PassengerId</th>\n",
              "      <th>Pclass</th>\n",
              "      <th>Name</th>\n",
              "      <th>Sex</th>\n",
              "      <th>Age</th>\n",
              "      <th>SibSp</th>\n",
              "      <th>Parch</th>\n",
              "      <th>Ticket</th>\n",
              "      <th>Fare</th>\n",
              "      <th>Cabin</th>\n",
              "      <th>Embarked</th>\n",
              "      <th>Age_categories</th>\n",
              "      <th>Pclass_1</th>\n",
              "      <th>Pclass_2</th>\n",
              "      <th>Pclass_3</th>\n",
              "      <th>Sex_female</th>\n",
              "      <th>Sex_male</th>\n",
              "      <th>Age_categories_Missing</th>\n",
              "      <th>Age_categories_Infant</th>\n",
              "      <th>Age_categories_Child</th>\n",
              "      <th>Age_categories_Teenager</th>\n",
              "      <th>Age_categories_Young Adult</th>\n",
              "      <th>Age_categories_Adult</th>\n",
              "      <th>Age_categories_Senior</th>\n",
              "    </tr>\n",
              "  </thead>\n",
              "  <tbody>\n",
              "    <tr>\n",
              "      <th>0</th>\n",
              "      <td>892</td>\n",
              "      <td>3</td>\n",
              "      <td>Kelly, Mr. James</td>\n",
              "      <td>male</td>\n",
              "      <td>34.5</td>\n",
              "      <td>0</td>\n",
              "      <td>0</td>\n",
              "      <td>330911</td>\n",
              "      <td>7.8292</td>\n",
              "      <td>NaN</td>\n",
              "      <td>Q</td>\n",
              "      <td>Young Adult</td>\n",
              "      <td>0</td>\n",
              "      <td>0</td>\n",
              "      <td>1</td>\n",
              "      <td>0</td>\n",
              "      <td>1</td>\n",
              "      <td>0</td>\n",
              "      <td>0</td>\n",
              "      <td>0</td>\n",
              "      <td>0</td>\n",
              "      <td>1</td>\n",
              "      <td>0</td>\n",
              "      <td>0</td>\n",
              "    </tr>\n",
              "    <tr>\n",
              "      <th>1</th>\n",
              "      <td>893</td>\n",
              "      <td>3</td>\n",
              "      <td>Wilkes, Mrs. James (Ellen Needs)</td>\n",
              "      <td>female</td>\n",
              "      <td>47.0</td>\n",
              "      <td>1</td>\n",
              "      <td>0</td>\n",
              "      <td>363272</td>\n",
              "      <td>7.0000</td>\n",
              "      <td>NaN</td>\n",
              "      <td>S</td>\n",
              "      <td>Adult</td>\n",
              "      <td>0</td>\n",
              "      <td>0</td>\n",
              "      <td>1</td>\n",
              "      <td>1</td>\n",
              "      <td>0</td>\n",
              "      <td>0</td>\n",
              "      <td>0</td>\n",
              "      <td>0</td>\n",
              "      <td>0</td>\n",
              "      <td>0</td>\n",
              "      <td>1</td>\n",
              "      <td>0</td>\n",
              "    </tr>\n",
              "    <tr>\n",
              "      <th>2</th>\n",
              "      <td>894</td>\n",
              "      <td>2</td>\n",
              "      <td>Myles, Mr. Thomas Francis</td>\n",
              "      <td>male</td>\n",
              "      <td>62.0</td>\n",
              "      <td>0</td>\n",
              "      <td>0</td>\n",
              "      <td>240276</td>\n",
              "      <td>9.6875</td>\n",
              "      <td>NaN</td>\n",
              "      <td>Q</td>\n",
              "      <td>Senior</td>\n",
              "      <td>0</td>\n",
              "      <td>1</td>\n",
              "      <td>0</td>\n",
              "      <td>0</td>\n",
              "      <td>1</td>\n",
              "      <td>0</td>\n",
              "      <td>0</td>\n",
              "      <td>0</td>\n",
              "      <td>0</td>\n",
              "      <td>0</td>\n",
              "      <td>0</td>\n",
              "      <td>1</td>\n",
              "    </tr>\n",
              "  </tbody>\n",
              "</table>\n",
              "</div>"
            ],
            "text/plain": [
              "   PassengerId  Pclass  ... Age_categories_Adult Age_categories_Senior\n",
              "0          892       3  ...                    0                     0\n",
              "1          893       3  ...                    1                     0\n",
              "2          894       2  ...                    0                     1\n",
              "\n",
              "[3 rows x 24 columns]"
            ]
          },
          "metadata": {
            "tags": []
          },
          "execution_count": 9
        }
      ]
    },
    {
      "cell_type": "code",
      "metadata": {
        "id": "NChFOEw45dlx"
      },
      "source": [
        "from sklearn.linear_model import LogisticRegression\n",
        "\n",
        "columns = ['Pclass_1', 'Pclass_2', 'Pclass_3', 'Sex_female', 'Sex_male',\n",
        "       'Age_categories_Missing','Age_categories_Infant',\n",
        "       'Age_categories_Child', 'Age_categories_Teenager',\n",
        "       'Age_categories_Young Adult', 'Age_categories_Adult',\n",
        "       'Age_categories_Senior']\n",
        "\n",
        "all_X = train[columns]\n",
        "all_y = train.Survived\n",
        "\n",
        "lr = LogisticRegression()\n",
        "lr.fit(all_X, all_y)\n",
        "predictions = lr.predict(test[columns])"
      ],
      "execution_count": null,
      "outputs": []
    },
    {
      "cell_type": "code",
      "metadata": {
        "id": "0ZM5aG8g6dkZ"
      },
      "source": [
        "# test_ids = test['PassengerId']\n",
        "# submission_df = {'PassengerId': test_ids,\n",
        "#                  'Survived': predictions}\n",
        "# submission = pd.DataFrame(submission_df)\n",
        "# path_sub = '/content/gdrive/MyDrive/python/dataquest/kaggle_submission_01.csv'\n",
        "# submission.to_csv(path_sub, index=False)"
      ],
      "execution_count": null,
      "outputs": []
    },
    {
      "cell_type": "code",
      "metadata": {
        "id": "esPKRAro7qQJ"
      },
      "source": [
        "# This submission received an accuracy score of .76315."
      ],
      "execution_count": null,
      "outputs": []
    },
    {
      "cell_type": "code",
      "metadata": {
        "id": "ugVAg8PkqEkf"
      },
      "source": [
        "# Scale the 'SibSp', 'Parch', and 'Fare' variables.\n",
        "\n",
        "from sklearn.preprocessing import minmax_scale\n",
        "\n",
        "# The test set has a missing value in the Fare column which\n",
        "# We'll fill it with the mean from the train set.\n",
        "test['Fare'] = test['Fare'].fillna(train['Fare'].mean())\n",
        "columns = ['SibSp','Parch','Fare']\n",
        "\n",
        "train['Embarked'] = train['Embarked'].fillna('S')\n",
        "test['Embarked'] = test['Embarked'].fillna('S')\n",
        "\n",
        "train = create_dummies(train,'Embarked')\n",
        "test = create_dummies(test,'Embarked')\n",
        "\n",
        "for col in columns:\n",
        "    train[col + '_scaled'] = minmax_scale(train[col])\n",
        "    test[col + '_scaled'] = minmax_scale(test[col])"
      ],
      "execution_count": null,
      "outputs": []
    },
    {
      "cell_type": "code",
      "metadata": {
        "colab": {
          "base_uri": "https://localhost:8080/",
          "height": 265
        },
        "id": "vIszMHm4rwGs",
        "outputId": "3453a24c-1a96-4d43-85eb-981aff363d11"
      },
      "source": [
        "# Use the coefficients method to identify the best-performing features\n",
        "\n",
        "columns = ['Age_categories_Missing', 'Age_categories_Infant',\n",
        "       'Age_categories_Child', 'Age_categories_Teenager',\n",
        "       'Age_categories_Young Adult', 'Age_categories_Adult',\n",
        "       'Age_categories_Senior', 'Pclass_1', 'Pclass_2', 'Pclass_3',\n",
        "       'Sex_female', 'Sex_male', 'Embarked_C', 'Embarked_Q', 'Embarked_S',\n",
        "       'SibSp_scaled', 'Parch_scaled', 'Fare_scaled']\n",
        "\n",
        "lr = LogisticRegression()\n",
        "lr.fit(train[columns], train.Survived)\n",
        "coefficients = lr.coef_\n",
        "feature_importance = pd.Series(coefficients[0], index=train[columns].columns)\n",
        "feature_importance.plot.barh()\n",
        "plt.show()"
      ],
      "execution_count": null,
      "outputs": [
        {
          "output_type": "display_data",
          "data": {
            "image/png": "[encoded data removed]",
            "text/plain": [
              "<Figure size 432x288 with 1 Axes>"
            ]
          },
          "metadata": {
            "tags": [],
            "needs_background": "light"
          }
        }
      ]
    },
    {
      "cell_type": "code",
      "metadata": {
        "colab": {
          "base_uri": "https://localhost:8080/",
          "height": 265
        },
        "id": "ylLjScgssHNM",
        "outputId": "81123552-476c-4815-ad1c-0c4febb0942b"
      },
      "source": [
        "# Now show them as absolute values sorted in descending order.\n",
        "\n",
        "ordered_feature_importance = feature_importance.abs().sort_values()\n",
        "ordered_feature_importance.plot.barh()\n",
        "plt.show()"
      ],
      "execution_count": null,
      "outputs": [
        {
          "output_type": "display_data",
          "data": {
            "image/png": "[encoded data removed]",
            "text/plain": [
              "<Figure size 432x288 with 1 Axes>"
            ]
          },
          "metadata": {
            "tags": [],
            "needs_background": "light"
          }
        }
      ]
    },
    {
      "cell_type": "code",
      "metadata": {
        "id": "gvRVsvDnsNZ9"
      },
      "source": [
        "# Train and model with the top 8 features.\n",
        "\n",
        "columns = ['Age_categories_Infant', 'SibSp_scaled', 'Sex_female', 'Sex_male',\n",
        "       'Pclass_1', 'Pclass_3', 'Age_categories_Senior', 'Parch_scaled']\n",
        "\n",
        "all_X = train[columns]\n",
        "all_y = train['Survived']\n",
        "\n",
        "lr = LogisticRegression()\n",
        "lr.fit(all_X, all_y)\n",
        "predictions = lr.predict(test[columns])"
      ],
      "execution_count": null,
      "outputs": []
    },
    {
      "cell_type": "code",
      "metadata": {
        "id": "vYNdNzSWtC2F"
      },
      "source": [
        "# Prepare a submission CSV.\n",
        "\n",
        "# test_ids = test['PassengerId']\n",
        "# submission_df = {'PassengerId': test_ids,\n",
        "#                  'Survived': predictions}\n",
        "# submission = pd.DataFrame(submission_df)\n",
        "# path_sub = '/content/gdrive/MyDrive/python/dataquest/kaggle_submission_02.csv'\n",
        "# submission.to_csv(path_sub, index=False)"
      ],
      "execution_count": null,
      "outputs": []
    },
    {
      "cell_type": "code",
      "metadata": {
        "id": "kxKYxXWBuUHV"
      },
      "source": [
        "# Turn the 'Fare' variable into a binned categorical variable.\n",
        "# Create dummy variable for the new 'Fare_categories\" variable.\n",
        "\n",
        "def process_fare(df, cut_points, label_names):\n",
        "    df['Fare_categories'] = pd.cut(df['Fare'], cut_points, labels=label_names)\n",
        "    return df\n",
        "\n",
        "cut_points = [0, 12, 50, 100, 1000]\n",
        "\n",
        "label_names = [\n",
        "    '0-12',\n",
        "    '12-50',\n",
        "    '50-100',\n",
        "    '100+'\n",
        "]\n",
        "\n",
        "train = process_fare(train, cut_points, label_names)\n",
        "test = process_fare(test, cut_points, label_names)\n",
        "\n",
        "train = create_dummies(train, 'Fare_categories')\n",
        "test = create_dummies(test, 'Fare_categories')"
      ],
      "execution_count": null,
      "outputs": []
    },
    {
      "cell_type": "code",
      "metadata": {
        "id": "WQbP7K3ZnhnE"
      },
      "source": [
        "# Engineer two new features: 'Title' and 'Cabin_type'.\n",
        "\n",
        "titles = {\n",
        "    'Mr' :         'Mr',\n",
        "    'Mme':         'Mrs',\n",
        "    'Ms':          'Mrs',\n",
        "    'Mrs':         'Mrs',\n",
        "    'Master':      'Master',\n",
        "    'Mlle':        'Miss',\n",
        "    'Miss':        'Miss',\n",
        "    'Capt':        'Officer',\n",
        "    'Col':         'Officer',\n",
        "    'Major':       'Officer',\n",
        "    'Dr':          'Officer',\n",
        "    'Rev':         'Officer',\n",
        "    'Jonkheer':    'Royalty',\n",
        "    'Don':         'Royalty',\n",
        "    'Sir':         'Royalty',\n",
        "    'Countess':    'Royalty',\n",
        "    'Dona':        'Royalty',\n",
        "    'Lady':        'Royalty'\n",
        "}\n",
        "\n",
        "extracted_titles = train['Name'].str.extract(' ([A-Za-z]+)\\.', expand=False)\n",
        "train['Title'] = extracted_titles.map(titles)\n",
        "\n",
        "extracted_titles = test['Name'].str.extract(' ([A-Za-z]+)\\.', expand=False)\n",
        "test['Title'] = extracted_titles.map(titles)\n",
        "\n",
        "train['Cabin_type'] = train.Cabin.str[0].fillna('Unknown')\n",
        "test['Cabin_type'] = test.Cabin.str[0].fillna('Unknown')\n",
        "\n",
        "train = create_dummies(train, 'Title')\n",
        "train = create_dummies(train, 'Cabin_type')\n",
        "test = create_dummies(test, 'Title')\n",
        "test = create_dummies(test, 'Cabin_type')"
      ],
      "execution_count": null,
      "outputs": []
    },
    {
      "cell_type": "code",
      "metadata": {
        "id": "VZyHJlORtFpd"
      },
      "source": [
        "# Function for checking for collinearity with a correlation heatmap.\n",
        "\n",
        "import numpy as np\n",
        "import seaborn as sns\n",
        "\n",
        "def plot_correlation_heatmap(df):\n",
        "    corr = df.corr()\n",
        "    \n",
        "    sns.set(style=\"white\")\n",
        "    mask = np.zeros_like(corr, dtype=np.bool)\n",
        "    mask[np.triu_indices_from(mask)] = True\n",
        "\n",
        "    f, ax = plt.subplots(figsize=(11, 9))\n",
        "    cmap = sns.diverging_palette(220, 10, as_cmap=True)\n",
        "\n",
        "\n",
        "    sns.heatmap(corr, mask=mask, cmap=cmap, vmax=.3, center=0,\n",
        "            square=True, linewidths=.5, cbar_kws={\"shrink\": .5})\n",
        "    plt.show()"
      ],
      "execution_count": null,
      "outputs": []
    },
    {
      "cell_type": "code",
      "metadata": {
        "colab": {
          "base_uri": "https://localhost:8080/",
          "height": 685
        },
        "id": "nE8mjU8wurCn",
        "outputId": "f5263083-e205-4f7a-ef70-80351279a4aa"
      },
      "source": [
        "# Generate correlation heat map for variables of interest.\n",
        "\n",
        "columns = ['Age_categories_Missing', 'Age_categories_Infant',\n",
        "       'Age_categories_Child', 'Age_categories_Teenager',\n",
        "       'Age_categories_Young Adult', 'Age_categories_Adult',\n",
        "       'Age_categories_Senior', 'Pclass_1', 'Pclass_2', 'Pclass_3',\n",
        "       'Sex_female', 'Sex_male', 'Embarked_C', 'Embarked_Q', 'Embarked_S',\n",
        "       'SibSp_scaled', 'Parch_scaled', 'Fare_categories_0-12',\n",
        "       'Fare_categories_12-50','Fare_categories_50-100', 'Fare_categories_100+',\n",
        "       'Title_Master', 'Title_Miss', 'Title_Mr','Title_Mrs', 'Title_Officer',\n",
        "       'Title_Royalty', 'Cabin_type_A','Cabin_type_B', 'Cabin_type_C',\n",
        "       'Cabin_type_D', 'Cabin_type_E','Cabin_type_F', 'Cabin_type_G',\n",
        "       'Cabin_type_T', 'Cabin_type_Unknown']\n",
        "\n",
        "plot_correlation_heatmap(train[columns])"
      ],
      "execution_count": null,
      "outputs": [
        {
          "output_type": "display_data",
          "data": {
            "image/png": "[encoded data removed]",
            "text/plain": [
              "<Figure size 792x648 with 2 Axes>"
            ]
          },
          "metadata": {
            "tags": []
          }
        }
      ]
    },
    {
      "cell_type": "code",
      "metadata": {
        "id": "D3mA7J6NvBTT"
      },
      "source": [
        "# Sex_female/Sex_male and Title_Miss/Title_Mr/Title_Mrs are highly correlated.\n",
        "# We'll remove Sex_female and Sex_male as the title data may be more nuanced.\n",
        "# We also remove one of each of our dummy variables to reduce the collinearity.\n",
        "# Pclass_2, Age_categories_Teenager, Fare_categories_12-50...\n",
        "# Title_Master, Cabin_type.\n",
        "\n",
        "columns = ['Age_categories_Missing', 'Age_categories_Infant',\n",
        "       'Age_categories_Child', 'Age_categories_Young Adult',\n",
        "       'Age_categories_Adult', 'Age_categories_Senior', 'Pclass_1', 'Pclass_3',\n",
        "       'Embarked_C', 'Embarked_Q', 'Embarked_S', 'SibSp_scaled',\n",
        "       'Parch_scaled', 'Fare_categories_0-12', 'Fare_categories_50-100',\n",
        "       'Fare_categories_100+', 'Title_Miss', 'Title_Mr', 'Title_Mrs',\n",
        "       'Title_Officer', 'Title_Royalty', 'Cabin_type_B', 'Cabin_type_C',\n",
        "       'Cabin_type_D', 'Cabin_type_E', 'Cabin_type_F', 'Cabin_type_G',\n",
        "       'Cabin_type_T', 'Cabin_type_Unknown']"
      ],
      "execution_count": null,
      "outputs": []
    },
    {
      "cell_type": "code",
      "metadata": {
        "id": "DBziwC3PzKs1"
      },
      "source": [
        "# Recursive Feature Elimination (RFECV) is used to select optimal features.\n",
        "\n",
        "from sklearn.feature_selection import RFECV\n",
        "\n",
        "all_X = train[columns]\n",
        "all_y = train['Survived']\n",
        "\n",
        "lr = LogisticRegression()\n",
        "selector = RFECV(lr, cv=10)\n",
        "selector.fit(all_X, all_y)\n",
        "\n",
        "optimized_columns = all_X.columns[selector.support_]"
      ],
      "execution_count": null,
      "outputs": []
    },
    {
      "cell_type": "code",
      "metadata": {
        "colab": {
          "base_uri": "https://localhost:8080/"
        },
        "id": "DivdyWmT0kaM",
        "outputId": "31b6c2e9-9edd-42e5-af65-b2d85b91d664"
      },
      "source": [
        "print(optimized_columns)"
      ],
      "execution_count": null,
      "outputs": [
        {
          "output_type": "stream",
          "text": [
            "Index(['SibSp_scaled', 'Title_Mr', 'Title_Officer', 'Cabin_type_Unknown'], dtype='object')\n"
          ],
          "name": "stdout"
        }
      ]
    },
    {
      "cell_type": "code",
      "metadata": {
        "id": "ENJ_FiXs08CM"
      },
      "source": [
        "all_X = train[optimized_columns]\n",
        "all_y = train['Survived']\n",
        "\n",
        "lr = LogisticRegression()\n",
        "lr.fit(all_X, all_y)\n",
        "predictions = lr.predict(test[optimized_columns])"
      ],
      "execution_count": null,
      "outputs": []
    },
    {
      "cell_type": "code",
      "metadata": {
        "id": "IMORAEi-4nPj"
      },
      "source": [
        "# test_ids = test['PassengerId']\n",
        "# submission_df = {'PassengerId': test_ids,\n",
        "#                  'Survived': predictions}\n",
        "# submission = pd.DataFrame(submission_df)\n",
        "# path_sub = '/content/gdrive/MyDrive/python/dataquest/kaggle_submission_03.csv'\n",
        "# submission.to_csv(path_sub, index=False)"
      ],
      "execution_count": null,
      "outputs": []
    },
    {
      "cell_type": "code",
      "metadata": {
        "id": "rnJeFsax5S5w"
      },
      "source": [
        ""
      ],
      "execution_count": null,
      "outputs": []
    }
  ]
}